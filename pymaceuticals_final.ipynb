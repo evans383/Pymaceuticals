{
 "cells": [
  {
   "cell_type": "markdown",
   "metadata": {},
   "source": [
    "## Observations and Insights"
   ]
  },
  {
   "cell_type": "markdown",
   "metadata": {},
   "source": []
  },
  {
   "cell_type": "markdown",
   "metadata": {},
   "source": [
    "## Dependencies and starter code"
   ]
  },
  {
   "cell_type": "code",
   "execution_count": 514,
   "metadata": {},
   "outputs": [],
   "source": [
    "# Dependencies and Setup\n",
    "import matplotlib.pyplot as plt\n",
    "import pandas as pd\n",
    "import scipy.stats as st\n",
    "\n",
    "# Study data files\n",
    "mouse_metadata = \"data/Mouse_metadata.csv\"\n",
    "study_results = \"data/Study_results.csv\"\n",
    "\n",
    "# Read the mouse data and the study results\n",
    "mouse_metadata = pd.read_csv(mouse_metadata)\n",
    "study_results = pd.read_csv(study_results)\n",
    "\n",
    "# Combine the data into a single dataset\n",
    "study_data_complete = pd.merge(study_results, mouse_metadata, how=\"left\", on=[\"Mouse ID\", \"Mouse ID\"])"
   ]
  },
  {
   "cell_type": "markdown",
   "metadata": {},
   "source": [
    "## Summary statistics"
   ]
  },
  {
   "cell_type": "code",
   "execution_count": 515,
   "metadata": {},
   "outputs": [
    {
     "data": {
      "text/html": [
       "<div>\n",
       "<style scoped>\n",
       "    .dataframe tbody tr th:only-of-type {\n",
       "        vertical-align: middle;\n",
       "    }\n",
       "\n",
       "    .dataframe tbody tr th {\n",
       "        vertical-align: top;\n",
       "    }\n",
       "\n",
       "    .dataframe thead th {\n",
       "        text-align: right;\n",
       "    }\n",
       "</style>\n",
       "<table border=\"1\" class=\"dataframe\">\n",
       "  <thead>\n",
       "    <tr style=\"text-align: right;\">\n",
       "      <th></th>\n",
       "      <th>Average Tumor Size</th>\n",
       "      <th>Standard Deviation</th>\n",
       "      <th>Variance</th>\n",
       "      <th>SEM</th>\n",
       "      <th>Median</th>\n",
       "    </tr>\n",
       "    <tr>\n",
       "      <th>Drug Regimen</th>\n",
       "      <th></th>\n",
       "      <th></th>\n",
       "      <th></th>\n",
       "      <th></th>\n",
       "      <th></th>\n",
       "    </tr>\n",
       "  </thead>\n",
       "  <tbody>\n",
       "    <tr>\n",
       "      <th>Capomulin</th>\n",
       "      <td>40.675741</td>\n",
       "      <td>4.994774</td>\n",
       "      <td>24.947764</td>\n",
       "      <td>0.329346</td>\n",
       "      <td>41.557809</td>\n",
       "    </tr>\n",
       "    <tr>\n",
       "      <th>Ceftamin</th>\n",
       "      <td>52.591172</td>\n",
       "      <td>6.268188</td>\n",
       "      <td>39.290177</td>\n",
       "      <td>0.469821</td>\n",
       "      <td>51.776157</td>\n",
       "    </tr>\n",
       "    <tr>\n",
       "      <th>Infubinol</th>\n",
       "      <td>52.884795</td>\n",
       "      <td>6.567243</td>\n",
       "      <td>43.128684</td>\n",
       "      <td>0.492236</td>\n",
       "      <td>51.820584</td>\n",
       "    </tr>\n",
       "    <tr>\n",
       "      <th>Ketapril</th>\n",
       "      <td>55.235638</td>\n",
       "      <td>8.279709</td>\n",
       "      <td>68.553577</td>\n",
       "      <td>0.603860</td>\n",
       "      <td>53.698743</td>\n",
       "    </tr>\n",
       "    <tr>\n",
       "      <th>Naftisol</th>\n",
       "      <td>54.331565</td>\n",
       "      <td>8.134708</td>\n",
       "      <td>66.173479</td>\n",
       "      <td>0.596466</td>\n",
       "      <td>52.509285</td>\n",
       "    </tr>\n",
       "    <tr>\n",
       "      <th>Placebo</th>\n",
       "      <td>54.033581</td>\n",
       "      <td>7.821003</td>\n",
       "      <td>61.168083</td>\n",
       "      <td>0.581331</td>\n",
       "      <td>52.288934</td>\n",
       "    </tr>\n",
       "    <tr>\n",
       "      <th>Propriva</th>\n",
       "      <td>52.322552</td>\n",
       "      <td>6.507770</td>\n",
       "      <td>42.351070</td>\n",
       "      <td>0.512884</td>\n",
       "      <td>50.854632</td>\n",
       "    </tr>\n",
       "    <tr>\n",
       "      <th>Ramicane</th>\n",
       "      <td>40.216745</td>\n",
       "      <td>4.846308</td>\n",
       "      <td>23.486704</td>\n",
       "      <td>0.320955</td>\n",
       "      <td>40.673236</td>\n",
       "    </tr>\n",
       "    <tr>\n",
       "      <th>Stelasyn</th>\n",
       "      <td>54.233149</td>\n",
       "      <td>7.710419</td>\n",
       "      <td>59.450562</td>\n",
       "      <td>0.573111</td>\n",
       "      <td>52.431737</td>\n",
       "    </tr>\n",
       "    <tr>\n",
       "      <th>Zoniferol</th>\n",
       "      <td>53.236507</td>\n",
       "      <td>6.966589</td>\n",
       "      <td>48.533355</td>\n",
       "      <td>0.516398</td>\n",
       "      <td>51.818479</td>\n",
       "    </tr>\n",
       "  </tbody>\n",
       "</table>\n",
       "</div>"
      ],
      "text/plain": [
       "              Average Tumor Size  Standard Deviation   Variance       SEM  \\\n",
       "Drug Regimen                                                                \n",
       "Capomulin              40.675741            4.994774  24.947764  0.329346   \n",
       "Ceftamin               52.591172            6.268188  39.290177  0.469821   \n",
       "Infubinol              52.884795            6.567243  43.128684  0.492236   \n",
       "Ketapril               55.235638            8.279709  68.553577  0.603860   \n",
       "Naftisol               54.331565            8.134708  66.173479  0.596466   \n",
       "Placebo                54.033581            7.821003  61.168083  0.581331   \n",
       "Propriva               52.322552            6.507770  42.351070  0.512884   \n",
       "Ramicane               40.216745            4.846308  23.486704  0.320955   \n",
       "Stelasyn               54.233149            7.710419  59.450562  0.573111   \n",
       "Zoniferol              53.236507            6.966589  48.533355  0.516398   \n",
       "\n",
       "                 Median  \n",
       "Drug Regimen             \n",
       "Capomulin     41.557809  \n",
       "Ceftamin      51.776157  \n",
       "Infubinol     51.820584  \n",
       "Ketapril      53.698743  \n",
       "Naftisol      52.509285  \n",
       "Placebo       52.288934  \n",
       "Propriva      50.854632  \n",
       "Ramicane      40.673236  \n",
       "Stelasyn      52.431737  \n",
       "Zoniferol     51.818479  "
      ]
     },
     "execution_count": 515,
     "metadata": {},
     "output_type": "execute_result"
    }
   ],
   "source": [
    "# Generate a summary statistics table of mean, median, variance, standard deviation, and SEM of the tumor volume for each regimen\n",
    "describe_study_group = study_data_complete.groupby(\"Drug Regimen\")\n",
    "describe_study = describe_study_group.describe()[[\"Tumor Volume (mm3)\"]][\"Tumor Volume (mm3)\"][[\"mean\",\"std\"]]\n",
    "describe_study[\"var\"] = describe_study[\"std\"]**2\n",
    "describe_study[\"sem\"] = describe_study_group.sem()[\"Tumor Volume (mm3)\"]\n",
    "describe_study[\"med\"] = describe_study_group.median()[\"Tumor Volume (mm3)\"]\n",
    "\n",
    "describe_study_summary = describe_study.rename(columns={\"mean\":\"Average Tumor Size\",\"std\":\"Standard Deviation\",\"var\":\"Variance\",\"sem\":\"SEM\",\"med\":\"Median\"})\n",
    "\n",
    "describe_study_summary"
   ]
  },
  {
   "cell_type": "markdown",
   "metadata": {},
   "source": [
    "## Bar plots"
   ]
  },
  {
   "cell_type": "code",
   "execution_count": 516,
   "metadata": {},
   "outputs": [
    {
     "data": {
      "text/plain": [
       "Text(0, 0.5, 'Number of Data Points')"
      ]
     },
     "execution_count": 516,
     "metadata": {},
     "output_type": "execute_result"
    },
    {
     "data": {
      "image/png": "[encoded data removed]",
      "text/plain": [
       "<Figure size 432x288 with 1 Axes>"
      ]
     },
     "metadata": {
      "needs_background": "light"
     },
     "output_type": "display_data"
    }
   ],
   "source": [
    "# Generate a bar plot showing number of data points for each treatment regimen using pandas\n",
    "treatment_series = study_data_complete[\"Drug Regimen\"].value_counts()\n",
    "ax = treatment_series.plot(kind=\"bar\")\n",
    "ax.set_xlabel(\"Drug Regimen\")\n",
    "ax.set_ylabel(\"Number of Data Points\")"
   ]
  },
  {
   "cell_type": "code",
   "execution_count": 517,
   "metadata": {},
   "outputs": [],
   "source": [
    "# Generate a bar plot showing number of data points for each treatment regimen using pyplot\n"
   ]
  },
  {
   "cell_type": "markdown",
   "metadata": {},
   "source": [
    "## Pie plots"
   ]
  },
  {
   "cell_type": "code",
   "execution_count": 518,
   "metadata": {},
   "outputs": [
    {
     "data": {
      "image/png": "[encoded data removed]",
      "text/plain": [
       "<Figure size 432x288 with 1 Axes>"
      ]
     },
     "metadata": {},
     "output_type": "display_data"
    }
   ],
   "source": [
    "# Generate a pie plot showing the distribution of female versus male mice using pandas\n",
    "gender_series = study_data_complete[\"Sex\"].value_counts()\n",
    "ax = gender_series.plot(kind=\"pie\", autopct=\"%1.1f%%\")"
   ]
  },
  {
   "cell_type": "code",
   "execution_count": 519,
   "metadata": {},
   "outputs": [
    {
     "data": {
      "text/plain": [
       "([<matplotlib.patches.Wedge at 0x1627cf6ac50>,\n",
       "  <matplotlib.patches.Wedge at 0x1627cf6a0f0>],\n",
       " [Text(-0.02099250347258543, 1.0997996703027118, ''),\n",
       "  Text(0.020992503472585782, -1.0997996703027118, '')])"
      ]
     },
     "execution_count": 519,
     "metadata": {},
     "output_type": "execute_result"
    },
    {
     "data": {
      "image/png": "[encoded data removed]",
      "text/plain": [
       "<Figure size 432x288 with 1 Axes>"
      ]
     },
     "metadata": {},
     "output_type": "display_data"
    }
   ],
   "source": [
    "# Generate a pie plot showing the distribution of female versus male mice using pyplot\n",
    "plt.pie(gender_series)"
   ]
  },
  {
   "cell_type": "markdown",
   "metadata": {},
   "source": [
    "## Quartiles, outliers and boxplots"
   ]
  },
  {
   "cell_type": "code",
   "execution_count": 520,
   "metadata": {},
   "outputs": [
    {
     "name": "stdout",
     "output_type": "stream",
     "text": [
      "There are 0 outliers in 4 Drug Regimens\n"
     ]
    }
   ],
   "source": [
    "# Calculate the final tumor volume of each mouse across four of the most promising treatment regimens. Calculate the IQR and quantitatively determine if there are any potential outliers. \n",
    "# All mice started with tumor volume of 45mm, I am using smallest average end tumor volume as a metric of drug effectiveness\n",
    "end_tumor = study_data_complete[[\"Mouse ID\", \"Timepoint\",\"Drug Regimen\",\"Tumor Volume (mm3)\"]].loc[study_data_complete[\"Timepoint\"]==max(study_data_complete[\"Timepoint\"])]\n",
    "end_tumor_groupby = end_tumor.groupby(\"Drug Regimen\")\n",
    "ave_smallest_tumor_med = end_tumor_groupby.mean().nsmallest(4,\"Tumor Volume (mm3)\")\n",
    "end_tumor_smallest = end_tumor.loc[end_tumor[\"Drug Regimen\"].isin(ave_smallest_tumor_med.index)]\n",
    "\n",
    "quantile_tumor_data = end_tumor_smallest.groupby(\"Drug Regimen\")[[\"Tumor Volume (mm3)\"]].quantile([.25,.5,.75]).unstack()\n",
    "\n",
    "quantile_tumor_data.columns = quantile_tumor_data.columns.droplevel()\n",
    "\n",
    "quantile_tumor_data[\"IQR\"] = quantile_tumor_data[.75]-quantile_tumor_data[.25]\n",
    "quantile_tumor_data[\"L_IQR\"] = quantile_tumor_data[.25] - 1.5*quantile_tumor_data[\"IQR\"]\n",
    "quantile_tumor_data[\"U_IQR\"] = quantile_tumor_data[.75] + 1.5*quantile_tumor_data[\"IQR\"]\n",
    "\n",
    "count = 0\n",
    "for drug, row in quantile_tumor_data.iterrows():\n",
    "    count += len(end_tumor_smallest.loc[(end_tumor_smallest[\"Drug Regimen\"] == drug) &\\\n",
    "                                 ((end_tumor_smallest[\"Tumor Volume (mm3)\"] < row[\"L_IQR\"]) |\\\n",
    "                                 (end_tumor_smallest[\"Tumor Volume (mm3)\"] > row[\"U_IQR\"]))])\n",
    "    \n",
    "print(f\"There are {count} outliers in {len(quantile_tumor_data)} Drug Regimens\")"
   ]
  },
  {
   "cell_type": "code",
   "execution_count": 521,
   "metadata": {},
   "outputs": [
    {
     "data": {
      "text/plain": [
       "<matplotlib.axes._subplots.AxesSubplot at 0x1627d2d1f98>"
      ]
     },
     "execution_count": 521,
     "metadata": {},
     "output_type": "execute_result"
    },
    {
     "data": {
      "image/png": "[encoded data removed]",
      "text/plain": [
       "<Figure size 432x288 with 1 Axes>"
      ]
     },
     "metadata": {
      "needs_background": "light"
     },
     "output_type": "display_data"
    }
   ],
   "source": [
    "# Generate a box plot of the final tumor volume of each mouse across four regimens of interest\n",
    "end_tumor_smallest[[\"Drug Regimen\", \"Tumor Volume (mm3)\"]].sort_values(\"Drug Regimen\").boxplot(by=\"Drug Regimen\")"
   ]
  },
  {
   "cell_type": "raw",
   "metadata": {},
   "source": [
    "## Line and scatter plots"
   ]
  },
  {
   "cell_type": "code",
   "execution_count": 522,
   "metadata": {},
   "outputs": [
    {
     "data": {
      "text/plain": [
       "Text(0, 0.5, 'Tumor Volume\\n(cubic millimeters)')"
      ]
     },
     "execution_count": 522,
     "metadata": {},
     "output_type": "execute_result"
    },
    {
     "data": {
      "image/png": "[encoded data removed]",
      "text/plain": [
       "<Figure size 432x288 with 1 Axes>"
      ]
     },
     "metadata": {
      "needs_background": "light"
     },
     "output_type": "display_data"
    }
   ],
   "source": [
    "# Generate a line plot of time point versus tumor volume for a mouse treated with Capomulin\n",
    "size_v_time = study_data_complete[[\"Timepoint\", \"Tumor Volume (mm3)\"]].loc[study_data_complete[\"Mouse ID\"]==\"b128\"].set_index(\"Timepoint\")\n",
    "size_v_time.plot(y = \"Tumor Volume (mm3)\", legend=None).set_ylabel(\"Tumor Volume\\n(cubic millimeters)\")"
   ]
  },
  {
   "cell_type": "code",
   "execution_count": 523,
   "metadata": {},
   "outputs": [
    {
     "data": {
      "text/plain": [
       "<matplotlib.axes._subplots.AxesSubplot at 0x1627d3067b8>"
      ]
     },
     "execution_count": 523,
     "metadata": {},
     "output_type": "execute_result"
    },
    {
     "data": {
      "image/png": "[encoded data removed]",
      "text/plain": [
       "<Figure size 432x288 with 1 Axes>"
      ]
     },
     "metadata": {
      "needs_background": "light"
     },
     "output_type": "display_data"
    }
   ],
   "source": [
    "# Generate a scatter plot of mouse weight versus average tumor volume for the Capomulin regimen\n",
    "cap_weight_volume = study_data_complete[[\"Weight (g)\", \"Tumor Volume (mm3)\"]].loc[study_data_complete[\"Drug Regimen\"]==\"Capomulin\"]\n",
    "cap_ave_weight_v_volume = cap_weight_volume.groupby(\"Weight (g)\").mean()\n",
    "cap_ave_weight_v_volume.reset_index(inplace=True)\n",
    "cap_ave_weight_v_volume.plot(kind='scatter',x=\"Weight (g)\",y=\"Tumor Volume (mm3)\")"
   ]
  },
  {
   "cell_type": "code",
   "execution_count": 524,
   "metadata": {},
   "outputs": [
    {
     "data": {
      "image/png": "[encoded data removed]",
      "text/plain": [
       "<Figure size 432x288 with 1 Axes>"
      ]
     },
     "metadata": {
      "needs_background": "light"
     },
     "output_type": "display_data"
    }
   ],
   "source": [
    "# Calculate the correlation coefficient and linear regression model for mouse weight and average tumor volume for the Capomulin regimen\n",
    "x_values = cap_ave_weight_v_volume[\"Weight (g)\"]\n",
    "y_values = cap_ave_weight_v_volume['Tumor Volume (mm3)']\n",
    "(slope, intercept, rvalue, pvalue, stderr) = st.linregress(x_values, y_values)\n",
    "regress_values = x_values * slope + intercept\n",
    "line_eq = \"y = \" + str(round(slope,2)) + \"x + \" + str(round(intercept,2))\n",
    "cap_ave_weight_v_volume.plot(kind='scatter',x=\"Weight (g)\",y=\"Tumor Volume (mm3)\")\n",
    "plt.plot(x_values,regress_values,\"r-\")\n",
    "plt.annotate(line_eq,(20,38),fontsize=15,color=\"red\")\n",
    "plt.show()"
   ]
  }
 ],
 "metadata": {
  "anaconda-cloud": {},
  "kernelspec": {
   "display_name": "Python 3",
   "language": "python",
   "name": "python3"
  },
  "language_info": {
   "codemirror_mode": {
    "name": "ipython",
    "version": 3
   },
   "file_extension": ".py",
   "mimetype": "text/x-python",
   "name": "python",
   "nbconvert_exporter": "python",
   "pygments_lexer": "ipython3",
   "version": "3.6.10"
  }
 },
 "nbformat": 4,
 "nbformat_minor": 2
}
